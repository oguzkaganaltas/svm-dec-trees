{
 "cells": [
  {
   "cell_type": "code",
   "execution_count": 10,
   "metadata": {},
   "outputs": [],
   "source": [
    "import numpy as np\n",
    "from dt import *\n",
    "import pydot\n",
    "from sklearn.metrics import confusion_matrix, ConfusionMatrixDisplay\n",
    "import matplotlib.pyplot as plt"
   ]
  },
  {
   "cell_type": "code",
   "execution_count": 4,
   "metadata": {},
   "outputs": [],
   "source": [
    "class Node:\n",
    "    decision_val = None\n",
    "    feature = None\n",
    "    bucket = None\n",
    "    left_child = None\n",
    "    right_child = None\n",
    "    def __init__(self):\n",
    "        pass\n",
    "    "
   ]
  },
  {
   "cell_type": "code",
   "execution_count": 5,
   "metadata": {},
   "outputs": [],
   "source": [
    "def print_tree(root,parent_id,graph):\n",
    "\n",
    "    if root is None:\n",
    "        return\n",
    "\n",
    "    print_tree(root.left_child,str(2*int(parent_id)+1),graph)\n",
    "    node = None\n",
    "    if(root.decision_val != None):\n",
    "        node = pydot.Node(str(parent_id),label=f\"x[{root.feature}]<\"+str(root.decision_val)+\"\\n\"+str(root.bucket))\n",
    "    else:\n",
    "        node = pydot.Node(str(parent_id),label=str(root.bucket))\n",
    "\n",
    "    graph.add_node(node)\n",
    "    print_tree(root.right_child,str(2*int(parent_id)+2),graph)\n",
    "    \n",
    "    if(root.left_child or root.right_child is not None):\n",
    "        graph.add_edge(pydot.Edge(str(parent_id),str(2*int(parent_id)+1),label=\"<\"))\n",
    "        graph.add_edge(pydot.Edge(str(parent_id),str(2*int(parent_id)+2),label=\">=\"))\n",
    "    return\n",
    "\n",
    "def predict(root, train_set):\n",
    "    \n",
    "    def test(root, data):\n",
    "        if root.decision_val is None:\n",
    "            return np.argmax(np.array(root.bucket))\n",
    "        \n",
    "        feature_num = root.feature\n",
    "        \n",
    "        if(data[feature_num] < root.decision_val):\n",
    "            return test(root.left_child, data)\n",
    "        else:\n",
    "            return test(root.right_child, data)\n",
    "\n",
    "    predictions = []\n",
    "    for datum in train_set:\n",
    "        predictions.append(test(root,datum))\n",
    "    return np.array(predictions) \n",
    "\n",
    "def bucketizer(labels,num_classes):\n",
    "    index, count = np.unique(labels, return_counts=True)\n",
    "    bucket = np.zeros(num_classes).astype(int)\n",
    "    bucket[index] = count\n",
    "    return bucket\n",
    "\n",
    "def ID3(data, labels, num_classes,strategy):\n",
    "\n",
    "    if(entropy(bucketizer(labels, num_classes)) == 0.0):\n",
    "        node = Node()\n",
    "        node.bucket = bucketizer(labels,num_classes)\n",
    "        return node\n",
    "    decision_func = np.argmax\n",
    "    if(strategy == \"avg_gini_index\"):\n",
    "        decision_func = np.argmin\n",
    "    \n",
    "    #here picking the parent node and the test value\n",
    "    all_features_dec_values = []\n",
    "    all_features_dec_split_index = []\n",
    "    for i in range(data.shape[1]):\n",
    "        attribute = calculate_split_values(\n",
    "            data, labels,num_classes, i, strategy)\n",
    "        min_index = decision_func(attribute[:, 1])\n",
    "        decision_value = attribute[:, 0][min_index]\n",
    "        decision_split_index = min_index\n",
    "\n",
    "        all_features_dec_values.append(decision_value)\n",
    "        all_features_dec_split_index.append(attribute[:, 1][decision_split_index])\n",
    "    \n",
    "    feature_num = np.argmin(all_features_dec_split_index)  # which attribute\n",
    "    test_val = all_features_dec_values[feature_num]  # test value\n",
    "\n",
    "    node = Node()\n",
    "    node.bucket = bucketizer(labels, num_classes)\n",
    "    node.decision_val = test_val\n",
    "    node.feature = feature_num\n",
    "\n",
    "    data_left = data[data[:,feature_num] < test_val]\n",
    "    data_right = data[data[:,feature_num] >= test_val]\n",
    "    labels_left = labels[data[:,feature_num] < test_val]\n",
    "    labels_right = labels[data[:,feature_num] >= test_val]\n",
    "\n",
    "    node.left_child = ID3(data_left,labels_left,num_classes,strategy)\n",
    "    node.right_child = ID3(data_right,labels_right,num_classes,strategy)\n",
    "\n",
    "    return node"
   ]
  },
  {
   "cell_type": "code",
   "execution_count": 11,
   "metadata": {},
   "outputs": [
    {
     "data": {
      "text/plain": [
       "<sklearn.metrics._plot.confusion_matrix.ConfusionMatrixDisplay at 0x1f53454d070>"
      ]
     },
     "execution_count": 11,
     "metadata": {},
     "output_type": "execute_result"
    },
    {
     "data": {
      "image/png": "[encoded data removed]",
      "text/plain": [
       "<Figure size 432x288 with 2 Axes>"
      ]
     },
     "metadata": {
      "needs_background": "light"
     },
     "output_type": "display_data"
    }
   ],
   "source": [
    "train_set = np.load(\"dt/train_set.npy \")\n",
    "train_labels = np.load(\"dt/train_labels.npy \")\n",
    "test_set = np.load(\"dt/test_set.npy \")\n",
    "test_labels = np.load(\"dt/test_labels.npy \")\n",
    "\n",
    "num_classes = len(np.unique(train_labels))\n",
    "strategy = \"avg_gini_index\"\n",
    "prune = False\n",
    "\n",
    "tree = ID3(train_set,train_labels,num_classes=num_classes,strategy=strategy)\n",
    "\n",
    "graph = pydot.Dot(graph_type='digraph')\n",
    "print_tree(tree,0,graph)\n",
    "graph.write_png(strategy+\"-\"+str(prune)+\".png\")\n",
    "\n",
    "predictions = predict(tree, test_set)\n",
    "cm = confusion_matrix(test_labels, predictions)\n",
    "disp = ConfusionMatrixDisplay(confusion_matrix=cm)\n",
    "disp.plot()"
   ]
  }
 ],
 "metadata": {
  "interpreter": {
   "hash": "73cb587e981b46ef4cd8747ecb5a483b6f1d7dde7741ee2cacb92c485f9a68cd"
  },
  "kernelspec": {
   "display_name": "Python 3.8.12 64-bit ('pytorch': conda)",
   "language": "python",
   "name": "python3"
  },
  "language_info": {
   "codemirror_mode": {
    "name": "ipython",
    "version": 3
   },
   "file_extension": ".py",
   "mimetype": "text/x-python",
   "name": "python",
   "nbconvert_exporter": "python",
   "pygments_lexer": "ipython3",
   "version": "3.8.12"
  },
  "orig_nbformat": 4
 },
 "nbformat": 4,
 "nbformat_minor": 2
}
